{
 "cells": [
  {
   "cell_type": "markdown",
   "metadata": {},
   "source": [
    "\"<H1>My Jupyter Notebook on IBM Watson Studio<H1>\""
   ]
  },
  {
   "cell_type": "markdown",
   "metadata": {},
   "source": [
    "\"<b>Dovhan Oleksii </b><br>Data Scientist \""
   ]
  },
  {
   "cell_type": "markdown",
   "metadata": {},
   "source": [
    "\"<i>I am interested in data science because data i want to become a data scientist under the industry of Linguistic, I want to I want to develop computer linguistics and work with neural networks. <i>\""
   ]
  },
  {
   "cell_type": "markdown",
   "metadata": {},
   "source": [
    "\"<h3>The Following Code will display the result of adding numbers: one plus one. </h3> \""
   ]
  },
  {
   "cell_type": "code",
   "execution_count": 8,
   "metadata": {},
   "outputs": [
    {
     "data": {
      "text/plain": [
       "2"
      ]
     },
     "execution_count": 8,
     "metadata": {},
     "output_type": "execute_result"
    }
   ],
   "source": [
    "1+1"
   ]
  },
  {
   "cell_type": "markdown",
   "metadata": {},
   "source": [
    "\"<html>\\n\",\n",
    "    \"<header>\\n\",\n",
    "    \"</header>\\n\",\n",
    "    \"\\n\",\n",
    "    \"<body>\\n\",\n",
    "    \"    <section>\\n\",\n",
    "    \"        <h1> My favourite Fruits</h1>\\n\",\n",
    "    \"        <ol>\\n\",\n",
    "    \"            <li>Orange</li>\\n\",\n",
    "    \"            <li>Banana</li>\\n\",\n",
    "    \"            <li>Peach</li>\\n\",\n",
    "    \"            <li>Mango</li>\\n\",\n",
    "    \"            <li>Lemon</li>\\n\",\n",
    "    \"        </ol>\\n\",\n",
    "    \"        <hr>\\n\",\n",
    "    \"        <table border=\\\"1px\\\">\\n\",\n",
    "    \"            <tr>\\n\",\n",
    "    \"                <td><b>Needs</b></td>\\n\",\n",
    "    \"                <td><b>Wants</b></td>\\n\",\n",
    "    \"            </tr>\\n\",\n",
    "    \"            <tr>\\n\",\n",
    "    \"                <td>Grass</td>\\n\",\n",
    "    \"                <td>Elephant</td>\\n\",\n",
    "    \"            </tr>\\n\",\n",
    "    \"            <tr>\\n\",\n",
    "    \"                <td>Wine</td>\\n\",\n",
    "    \"                <td>Key</td>\\n\",\n",
    "    \"            </tr>\\n\",\n",
    "    \"            <tr>\\n\",\n",
    "    \"                <td>Science</td>\\n\",\n",
    "    \"                <td>Technology</td>\\n\",\n",
    "    \"            </tr>\\n\",\n",
    "    \"            <tr>\\n\",\n",
    "    \"                <td>Sport</td>\\n\",\n",
    "    \"                <td>Culture</td>\\n\",\n",
    "    \"            </tr>\\n\",\n",
    "    \"        </table>\\n\",\n",
    "    \"        <br>\\n\",\n",
    "    \"        <hr>\\n\",\n",
    "    \"    </section>\\n\",\n",
    "    \"    <footer>\\n\",\n",
    "    \"        <a href=\\\"https://fex.net/\\\">https://fex.net/</a>\\n\",\n",
    "    \"    </footer>\\n\",\n",
    "    \"</body>\\n\",\n",
    "    \"</html>\"\n",
    "   ]\n",
    "  },\n",
    "  {\n",
    "   \"cell_type\": \"markdown\",\n",
    "   \"id\": \"ad581afd\",\n",
    "   \"metadata\": {},\n",
    "   \"source\": []\n",
    "  },\n",
    "  {\n",
    "   \"cell_type\": \"code\",\n",
    "   \"execution_count\": null,\n",
    "   \"id\": \"c01b902a\",\n",
    "   \"metadata\": {},\n",
    "   \"outputs\": [],\n",
    "   \"source\": []\n",
    "  }\n",
    " ],\n",
    " \"metadata\": {\n",
    "  \"kernelspec\": {\n",
    "   \"display_name\": \"Python 3 (ipykernel)\",\n",
    "   \"language\": \"python\",\n",
    "   \"name\": \"python3\"\n",
    "  },\n",
    "  \"language_info\": {\n",
    "   \"codemirror_mode\": {\n",
    "    \"name\": \"ipython\",\n",
    "    \"version\": 3\n",
    "   },\n",
    "   \"file_extension\": \".py\",\n",
    "   \"mimetype\": \"text/x-python\",\n",
    "   \"name\": \"python\",\n",
    "   \"nbconvert_exporter\": \"python\",\n",
    "   \"pygments_lexer\": \"ipython3\",\n",
    "   \"version\": \"3.9.7\"\n",
    "  }\n",
    " },\n",
    " \"nbformat\": 4,\n",
    " \"nbformat_minor\": 5\n",
    "}"
   ]
  }
 ],
 "metadata": {
  "kernelspec": {
   "display_name": "Python",
   "language": "python",
   "name": "conda-env-python-py"
  },
  "language_info": {
   "codemirror_mode": {
    "name": "ipython",
    "version": 3
   },
   "file_extension": ".py",
   "mimetype": "text/x-python",
   "name": "python",
   "nbconvert_exporter": "python",
   "pygments_lexer": "ipython3",
   "version": "3.7.12"
  }
 },
 "nbformat": 4,
 "nbformat_minor": 4
}
